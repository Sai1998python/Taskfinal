{
 "cells": [
  {
   "cell_type": "code",
   "execution_count": 1,
   "metadata": {},
   "outputs": [],
   "source": [
    "import pymongo\n",
    "# Communication with mongodb\n",
    "client = pymongo.MongoClient(\"mongodb://localhost:27017/\")\n",
    "#creating database\n",
    "db = client[\"Task-EmployeeData\"]"
   ]
  },
  {
   "cell_type": "code",
   "execution_count": 2,
   "metadata": {},
   "outputs": [],
   "source": [
    "def task():\n",
    "    while (1):\n",
    "    #  option given to user to do CRUD operations\n",
    "     \n",
    "        choice =int(input('\\nSelect 1 to perform checking,2 to perform insert, 3 to  perform read, 4 to update, 5 to  perform delete, 6 to  perform complete\\n'))\n",
    "        \n",
    "        if choice==1:\n",
    "            check()\n",
    "        elif choice == 2:\n",
    "            insert()\n",
    "        elif choice == 3:\n",
    "             read()\n",
    "        elif choice == 4:\n",
    "             update()\n",
    "        elif choice == 5:\n",
    "            delete()\n",
    "        elif choice ==6:\n",
    "            print('\\n Task completed\\n')\n",
    "            break\n",
    "        else:\n",
    "            print ('\\n INVALID SELECTION \\n')\n",
    "            "
   ]
  },
  {
   "cell_type": "code",
   "execution_count": 4,
   "metadata": {},
   "outputs": [],
   "source": [
    "#Function to check if employee details exist\n",
    "def check():\n",
    "    \n",
    "        employeeId = int(input('Enter Employee id :'))\n",
    "        if db.Employees.count_documents({\"id\":employeeId},limit=1):\n",
    "            print(\"\\n Data exists in Task-EmployeeData\\n\")\n",
    "        else:\n",
    "            print(\"\\n Data does not exist in Task-EmployeeData \\n\")\n",
    "       "
   ]
  },
  {
   "cell_type": "code",
   "execution_count": 5,
   "metadata": {},
   "outputs": [],
   "source": [
    "#Function to create data \n",
    "def insert():\n",
    "    try:\n",
    "        employeeId = int(input('Enter Employee id :'))\n",
    "        employeeName = str(input('Enter Name :'))\n",
    "        employeeAge = int(input('Enter age :'))\n",
    "        employeeCountry =str(input('Enter Country :'))\n",
    "        \n",
    "        db.Employees.insert_one(\n",
    "            {\n",
    "                \"id\": employeeId,\n",
    "                \"name\":employeeName,\n",
    "                \"age\":employeeAge,\n",
    "                \"country\":employeeCountry\n",
    "        })\n",
    "        print ('\\nInserted data successfully\\n')\n",
    "    \n",
    "    except:\n",
    "        print(\"invalid input\")\n"
   ]
  },
  {
   "cell_type": "code",
   "execution_count": 6,
   "metadata": {},
   "outputs": [],
   "source": [
    "#Function to read all documents\n",
    "def read():\n",
    "    try:\n",
    "        empCol = db.Employees.find()\n",
    "        print ('\\n Contents of Task-EmployeeData \\n')\n",
    "        for emp in empCol:\n",
    "            print (emp)\n",
    "\n",
    "    except:\n",
    "        print(\"Data does not exist\")"
   ]
  },
  {
   "cell_type": "code",
   "execution_count": 7,
   "metadata": {},
   "outputs": [],
   "source": [
    "# Function to update record to mongo db\n",
    "def update():\n",
    "    try:\n",
    "        key = int(input('\\nEnter id to update\\n'))\n",
    "        name = str(input('\\nEnter name to update\\n'))\n",
    "        age = int(input('\\nEnter age to update\\n'))\n",
    "        country =str(input('\\nEnter country to update\\n'))\n",
    "\n",
    "        db.Employees.update_one(\n",
    "          \n",
    "            {\"id\": key},\n",
    "            {\n",
    "                \"$set\": {\n",
    "                    \"name\":name,\n",
    "                    \"age\":age,\n",
    "                    \"country\":country\n",
    "                }\n",
    "            }\n",
    "        )\n",
    "        print (\"\\n Records updated successfully \\n\")    \n",
    "    \n",
    "    except:\n",
    "        print(\"update unsuccessful\")\n"
   ]
  },
  {
   "cell_type": "code",
   "execution_count": 8,
   "metadata": {},
   "outputs": [],
   "source": [
    "# Function to delete record from mongo db\n",
    "def delete():\n",
    "    try:\n",
    "        key =int(input('\\nEnter employee id to delete\\n'))\n",
    "        db.Employees.delete_many({\"id\":key})\n",
    "        print ('\\n Deletion successful \\n') \n",
    "    except :\n",
    "        print(\"Delete unsuccessful\")"
   ]
  },
  {
   "cell_type": "code",
   "execution_count": null,
   "metadata": {},
   "outputs": [
    {
     "name": "stdout",
     "output_type": "stream",
     "text": [
      "\n",
      "Select 1 to perform checking,2 to perform insert, 3 to  perform read, 4 to update, 5 to  perform delete, 6 to  perform complete\n",
      "5\n",
      "\n",
      "Enter employee id to delete\n",
      "sd\n",
      "Delete unsuccessful\n",
      "\n",
      "Select 1 to perform checking,2 to perform insert, 3 to  perform read, 4 to update, 5 to  perform delete, 6 to  perform complete\n",
      "3\n",
      "\n",
      " Contents of Task-EmployeeData \n",
      "\n",
      "{'_id': ObjectId('5e2f129a080df6b535ea2776'), 'id': 200700, 'name': 'akash', 'age': 20, 'country': 'Bhutan'}\n",
      "{'_id': ObjectId('5e2f12c2080df6b535ea2777'), 'id': 200701, 'name': 'bharat', 'age': 30, 'country': 'Nepal'}\n",
      "{'_id': ObjectId('5e2f12ed080df6b535ea2778'), 'id': 200702, 'name': 'saikiran', 'age': 22, 'country': 'India'}\n",
      "{'_id': ObjectId('5e2f1360080df6b535ea2779'), 'id': 200703, 'name': 'cr7', 'age': 34, 'country': 'Portugal'}\n",
      "\n",
      "Select 1 to perform checking,2 to perform insert, 3 to  perform read, 4 to update, 5 to  perform delete, 6 to  perform complete\n",
      "5\n",
      "\n",
      "Enter employee id to delete\n",
      "200703\n",
      "\n",
      " Deletion successful \n",
      "\n",
      "\n",
      "Select 1 to perform checking,2 to perform insert, 3 to  perform read, 4 to update, 5 to  perform delete, 6 to  perform complete\n",
      "3\n",
      "\n",
      " Contents of Task-EmployeeData \n",
      "\n",
      "{'_id': ObjectId('5e2f129a080df6b535ea2776'), 'id': 200700, 'name': 'akash', 'age': 20, 'country': 'Bhutan'}\n",
      "{'_id': ObjectId('5e2f12c2080df6b535ea2777'), 'id': 200701, 'name': 'bharat', 'age': 30, 'country': 'Nepal'}\n",
      "{'_id': ObjectId('5e2f12ed080df6b535ea2778'), 'id': 200702, 'name': 'saikiran', 'age': 22, 'country': 'India'}\n",
      "\n",
      "Select 1 to perform checking,2 to perform insert, 3 to  perform read, 4 to update, 5 to  perform delete, 6 to  perform complete\n",
      "1\n",
      "Enter Employee id :200702\n",
      "\n",
      " Data exists in Task-EmployeeData\n",
      "\n"
     ]
    }
   ],
   "source": [
    "task()"
   ]
  },
  {
   "cell_type": "code",
   "execution_count": null,
   "metadata": {},
   "outputs": [],
   "source": []
  },
  {
   "cell_type": "code",
   "execution_count": null,
   "metadata": {},
   "outputs": [],
   "source": []
  }
 ],
 "metadata": {
  "kernelspec": {
   "display_name": "Python 3",
   "language": "python",
   "name": "python3"
  }
 },
 "nbformat": 4,
 "nbformat_minor": 2
}
